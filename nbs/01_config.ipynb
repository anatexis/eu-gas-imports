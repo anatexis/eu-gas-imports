{
 "cells": [
  {
   "cell_type": "markdown",
   "id": "7257db77",
   "metadata": {},
   "source": [
    "# Create config file"
   ]
  },
  {
   "cell_type": "code",
   "execution_count": null,
   "id": "bc230d5b",
   "metadata": {},
   "outputs": [],
   "source": [
    "#| default_exp config"
   ]
  },
  {
   "cell_type": "code",
   "execution_count": null,
   "id": "9021b0f5",
   "metadata": {},
   "outputs": [],
   "source": [
    "#| hide\n",
    "#!/usr/bin/env python3"
   ]
  },
  {
   "cell_type": "code",
   "execution_count": null,
   "id": "189fddb9",
   "metadata": {},
   "outputs": [],
   "source": [
    "#| export\n",
    "download_dir = \"/home/christoph/Dokumente/Baumhaus/Programmieren/data/data_eu_gas_imports\""
   ]
  },
  {
   "cell_type": "code",
   "execution_count": null,
   "id": "bd1110bd",
   "metadata": {},
   "outputs": [],
   "source": []
  },
  {
   "cell_type": "code",
   "execution_count": null,
   "id": "c2fb8552",
   "metadata": {},
   "outputs": [],
   "source": []
  }
 ],
 "metadata": {
  "kernelspec": {
   "display_name": "python3",
   "language": "python",
   "name": "python3"
  }
 },
 "nbformat": 4,
 "nbformat_minor": 5
}
