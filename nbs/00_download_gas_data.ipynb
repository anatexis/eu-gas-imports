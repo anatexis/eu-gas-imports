{
 "cells": [
  {
   "cell_type": "markdown",
   "metadata": {},
   "source": [
    "# Download gas data\n",
    "\n",
    "> Check the bruegel.org homepage for new data and download it"
   ]
  },
  {
   "cell_type": "code",
   "execution_count": null,
   "metadata": {},
   "outputs": [],
   "source": [
    "#| default_exp download_gas_data"
   ]
  },
  {
   "cell_type": "code",
   "execution_count": null,
   "metadata": {},
   "outputs": [],
   "source": [
    "#| hide\n",
    "#!/usr/bin/env python3\n",
    "from nbdev.showdoc import *"
   ]
  },
  {
   "cell_type": "markdown",
   "metadata": {},
   "source": [
    "Import the needed modules. You need to install requests and you need a config.py file which contains the path where you want to save the data."
   ]
  },
  {
   "cell_type": "code",
   "execution_count": null,
   "metadata": {},
   "outputs": [],
   "source": [
    "#| exports\n",
    "import requests\n",
    "import os\n",
    "import datetime\n",
    "from sys import exit # so that it works in IPython as well"
   ]
  },
  {
   "cell_type": "markdown",
   "metadata": {},
   "source": [
    "## Get the right URL\n",
    "The url to the file looks something like this: `https://www.bruegel.org/sites/default/files/2023-02/Gas%20tracker%2021.02.23.zip`\n",
    "\n",
    "When the file gets updated, the filename is changed to the actual date. So we have to put the url together from the basic url, the \"bone\" `https://www.bruegel.org/sites/default/files/`"
   ]
  },
  {
   "cell_type": "code",
   "execution_count": null,
   "metadata": {},
   "outputs": [],
   "source": [
    "#|exports\n",
    "bone = \"https://www.bruegel.org/sites/default/files/\"\n"
   ]
  },
  {
   "cell_type": "markdown",
   "metadata": {},
   "source": [
    "month and year: `2023-02`:"
   ]
  },
  {
   "cell_type": "code",
   "execution_count": null,
   "metadata": {},
   "outputs": [],
   "source": [
    "#|exports\n",
    "year_month = datetime.datetime.today().strftime('%Y-%m')"
   ]
  },
  {
   "cell_type": "markdown",
   "metadata": {},
   "source": [
    "...\"Gas tracker\" (with spaces): "
   ]
  },
  {
   "cell_type": "code",
   "execution_count": null,
   "metadata": {},
   "outputs": [],
   "source": [
    "#|exports\n",
    "gastracker = \"/Gas%20tracker%20\""
   ]
  },
  {
   "cell_type": "markdown",
   "metadata": {},
   "source": [
    "and the actual date `21.02.23`:"
   ]
  },
  {
   "cell_type": "code",
   "execution_count": null,
   "metadata": {},
   "outputs": [],
   "source": [
    "#|exports\n",
    "today = datetime.datetime.today().strftime('%d.%m.%y')"
   ]
  },
  {
   "cell_type": "markdown",
   "metadata": {},
   "source": [
    "So the actual url we need is:"
   ]
  },
  {
   "cell_type": "code",
   "execution_count": null,
   "metadata": {},
   "outputs": [],
   "source": [
    "#|exports\n",
    "url = bone + year_month + gastracker + today + '.zip'"
   ]
  },
  {
   "cell_type": "markdown",
   "metadata": {},
   "source": [
    "## Non-ugly Filename\n",
    "The filename should not contain periods, so we create a new filename "
   ]
  },
  {
   "cell_type": "code",
   "execution_count": null,
   "metadata": {},
   "outputs": [],
   "source": [
    "#|exports\n",
    "today_fn = datetime.datetime.today().strftime('%y_%m_%d')\n",
    "filename = today_fn + \"_gastracker.zip\""
   ]
  },
  {
   "cell_type": "markdown",
   "metadata": {},
   "source": [
    "## Download data\n",
    "Send a HEAD request to check if the file exists (was updated). If it doesn't exist, that means the file was not updated.\n",
    "(there may be a warning, that you should use `exit` instead of exit() but it should work nontheless"
   ]
  },
  {
   "cell_type": "code",
   "execution_count": null,
   "metadata": {},
   "outputs": [
    {
     "name": "stdout",
     "output_type": "stream",
     "text": [
      "Nothing to download. File not updated.\n"
     ]
    },
    {
     "ename": "SystemExit",
     "evalue": "",
     "output_type": "error",
     "traceback": [
      "An exception has occurred, use %tb to see the full traceback.\n",
      "\u001b[0;31mSystemExit\u001b[0m\n"
     ]
    },
    {
     "name": "stderr",
     "output_type": "stream",
     "text": [
      "/home/christoph/mambaforge/lib/python3.10/site-packages/IPython/core/interactiveshell.py:3450: UserWarning: To exit: use 'exit', 'quit', or Ctrl-D.\n",
      "  warn(\"To exit: use 'exit', 'quit', or Ctrl-D.\", stacklevel=1)\n"
     ]
    }
   ],
   "source": [
    "#|exports\n",
    "#|eval: false\n",
    "r = requests.head(url)\n",
    "if r.status_code == 404:\n",
    "    print(f\"Nothing to download. File not updated.\")\n",
    "    exit()\n"
   ]
  },
  {
   "cell_type": "markdown",
   "metadata": {},
   "source": [
    "If the file exists, it means it was updated, download it"
   ]
  },
  {
   "cell_type": "code",
   "execution_count": null,
   "metadata": {},
   "outputs": [],
   "source": [
    "#|exports\n",
    "download_dir = \"/home/christoph/Dokumente/Baumhaus/Programmieren/data/data_eu_gas_imports\"\n",
    "\n",
    "r = requests.head(url)\n",
    "if r.status_code == 200:\n",
    "    response = requests.get(url)\n",
    "    with open(os.path.join(download_dir, filename), \"wb\") as f:\n",
    "        f.write(response.content)"
   ]
  },
  {
   "cell_type": "code",
   "execution_count": null,
   "metadata": {},
   "outputs": [],
   "source": [
    "#| hide\n",
    "import nbdev; nbdev.nbdev_export()"
   ]
  }
 ],
 "metadata": {
  "kernelspec": {
   "display_name": "python3",
   "language": "python",
   "name": "python3"
  }
 },
 "nbformat": 4,
 "nbformat_minor": 4
}
